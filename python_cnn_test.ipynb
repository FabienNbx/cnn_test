{
  "nbformat": 4,
  "nbformat_minor": 0,
  "metadata": {
    "colab": {
      "name": "python_cnn_test.ipynb",
      "provenance": [],
      "toc_visible": true,
      "authorship_tag": "ABX9TyO8/C+weDD74l6PrQprVbFK",
      "include_colab_link": true
    },
    "kernelspec": {
      "name": "python3",
      "display_name": "Python 3"
    },
    "language_info": {
      "name": "python"
    }
  },
  "cells": [
    {
      "cell_type": "markdown",
      "metadata": {
        "id": "view-in-github",
        "colab_type": "text"
      },
      "source": [
        "<a href=\"https://colab.research.google.com/github/FabienNbx/cnn_test/blob/main/python_cnn_test.ipynb\" target=\"_parent\"><img src=\"https://colab.research.google.com/assets/colab-badge.svg\" alt=\"Open In Colab\"/></a>"
      ]
    },
    {
      "cell_type": "markdown",
      "source": [
        "**1) IMPORTATION DES DONNÉES**"
      ],
      "metadata": {
        "id": "DL7PL9d3v8hH"
      }
    },
    {
      "cell_type": "code",
      "source": [
        "from keras.datasets import fashion_mnist\n",
        "(train_X,train_Y), (test_X,test_Y) = fashion_mnist.load_data()\n",
        "# x_train: uint8 NumPy array of grayscale image data with shapes (60000, 28, 28), containing the training data. Pixel values range from 0 to 255.\n",
        "# y_train: uint8 NumPy array of digit labels (integers in range 0-9) with shape (60000,) for the training data.\n",
        "# x_test: uint8 NumPy array of grayscale image data with shapes (10000, 28, 28), containing the test data. Pixel values range from 0 to 255.\n",
        "# y_test: uint8 NumPy array of digit labels (integers in range 0-9) with shape (10000,) for the test data."
      ],
      "metadata": {
        "id": "lv2aWSLswB4q"
      },
      "execution_count": 26,
      "outputs": []
    },
    {
      "cell_type": "markdown",
      "source": [
        "**2) ANALYSE DES DONNÉES** **texte en gras**\n"
      ],
      "metadata": {
        "id": "igyHUXcwxVUB"
      }
    },
    {
      "cell_type": "code",
      "source": [
        "import numpy as np\n",
        "from tensorflow.keras.utils import to_categorical\n",
        "import matplotlib.pyplot as plt\n",
        "%matplotlib inline\n",
        "\n",
        "print('Training data shape : ', train_X.shape, train_Y.shape) #60000 images de taille 28*28\n",
        "print('Testing data shape : ', test_X.shape, test_Y.shape) #10000 images de taille 28*28"
      ],
      "metadata": {
        "id": "I2M4znVFxXMF",
        "outputId": "66fd7138-e895-4c7e-fee7-96b0601526a9",
        "colab": {
          "base_uri": "https://localhost:8080/"
        }
      },
      "execution_count": 27,
      "outputs": [
        {
          "output_type": "stream",
          "name": "stdout",
          "text": [
            "Training data shape :  (60000, 28, 28) (60000,)\n",
            "Testing data shape :  (10000, 28, 28) (10000,)\n"
          ]
        }
      ]
    },
    {
      "cell_type": "markdown",
      "source": [
        "ANALYSE - Comptage du nombre de classes différentes"
      ],
      "metadata": {
        "id": "6axVBq2az2_M"
      }
    },
    {
      "cell_type": "code",
      "source": [
        "# Find the unique numbers from the train labels\n",
        "classes = np.unique(train_Y)\n",
        "nClasses = len(classes)\n",
        "print('Total number of outputs : ', nClasses)\n",
        "print('Output classes : ', classes)"
      ],
      "metadata": {
        "id": "zh7C-DPBz7zJ",
        "outputId": "c93fa6f8-e2b5-4fad-f144-6e70a2853145",
        "colab": {
          "base_uri": "https://localhost:8080/"
        }
      },
      "execution_count": 28,
      "outputs": [
        {
          "output_type": "stream",
          "name": "stdout",
          "text": [
            "Total number of outputs :  10\n",
            "Output classes :  [0 1 2 3 4 5 6 7 8 9]\n"
          ]
        }
      ]
    },
    {
      "cell_type": "markdown",
      "source": [
        "ANALYSE - Affichage d'une image du jeu d'entrainement et d'une image du jeu de test"
      ],
      "metadata": {
        "id": "MOoKxmnG0RBk"
      }
    },
    {
      "cell_type": "code",
      "source": [
        "plt.figure(figsize=[5,5])\n",
        "\n",
        "img_position = 0\n",
        "\n",
        "# Display the first image in training data\n",
        "plt.subplot(121)\n",
        "plt.imshow(train_X[img_position,:,:], cmap='gray')\n",
        "plt.title(\"Class label : {}\".format(train_Y[img_position]))\n",
        "\n",
        "# Display the first image in testing data\n",
        "plt.subplot(122)\n",
        "plt.imshow(test_X[img_position,:,:], cmap='gray')\n",
        "plt.title(\"Class label : {}\".format(test_Y[img_position]))"
      ],
      "metadata": {
        "id": "fKWQWIAA0WdD",
        "outputId": "2803d78b-cf77-41bb-af28-4f31a182084d",
        "colab": {
          "base_uri": "https://localhost:8080/",
          "height": 208
        }
      },
      "execution_count": 29,
      "outputs": [
        {
          "output_type": "execute_result",
          "data": {
            "text/plain": [
              "Text(0.5, 1.0, 'Class label : 9')"
            ]
          },
          "metadata": {},
          "execution_count": 29
        },
        {
          "output_type": "display_data",
          "data": {
            "image/png": "[encoded data removed]",
            "text/plain": [
              "<Figure size 360x360 with 2 Axes>"
            ]
          },
          "metadata": {
            "needs_background": "light"
          }
        }
      ]
    },
    {
      "cell_type": "markdown",
      "source": [
        "ANALYSE - Convertion de chaque image en matrice de dimension 28 * 28 * 1"
      ],
      "metadata": {
        "id": "A9s6zJDw150x"
      }
    },
    {
      "cell_type": "code",
      "source": [
        "train_X = train_X.reshape(-1, 28,28, 1)\n",
        "test_X = test_X.reshape(-1, 28,28, 1)\n",
        "train_X.shape, test_X.shape"
      ],
      "metadata": {
        "id": "kLgHbxop197V",
        "outputId": "2bede428-0dc6-4986-d29e-4a9bd80db943",
        "colab": {
          "base_uri": "https://localhost:8080/"
        }
      },
      "execution_count": 30,
      "outputs": [
        {
          "output_type": "execute_result",
          "data": {
            "text/plain": [
              "((60000, 28, 28, 1), (10000, 28, 28, 1))"
            ]
          },
          "metadata": {},
          "execution_count": 30
        }
      ]
    },
    {
      "cell_type": "markdown",
      "source": [
        "ANALYSE - Convertion en en de int en float, puis convetion des valeurs de [0 : 255] à [0 : 1]"
      ],
      "metadata": {
        "id": "o6EsSaZv2POL"
      }
    },
    {
      "cell_type": "code",
      "source": [
        "train_X = train_X.astype('float32')\n",
        "test_X = test_X.astype('float32')\n",
        "train_X = train_X / 255.\n",
        "test_X = test_X / 255."
      ],
      "metadata": {
        "id": "UGwsiqK62bEo"
      },
      "execution_count": 31,
      "outputs": []
    },
    {
      "cell_type": "markdown",
      "source": [
        "ANALYSE - Convertion de la classe en un vecteur de type 'one-hot encoding', c'est à dire l'indice de la seule valeur à 1 correspond à la classe (exemple : [0 0 0 0 0 0 0 0 0 1] pour une classe 9)"
      ],
      "metadata": {
        "id": "-ehTVd3p27Gb"
      }
    },
    {
      "cell_type": "code",
      "source": [
        "# Change the labels from categorical to one-hot encoding\n",
        "train_Y_one_hot = to_categorical(train_Y)\n",
        "test_Y_one_hot = to_categorical(test_Y)\n",
        "\n",
        "# Display the change for category label using one-hot encoding\n",
        "print('Original label:', train_Y[0])\n",
        "print('After conversion to one-hot:', train_Y_one_hot[0])\n",
        "print(train_Y_one_hot)"
      ],
      "metadata": {
        "id": "HYxvEeMx3PgZ",
        "outputId": "c83338e7-29fd-40bb-93fb-e656169ff54e",
        "colab": {
          "base_uri": "https://localhost:8080/"
        }
      },
      "execution_count": 32,
      "outputs": [
        {
          "output_type": "stream",
          "name": "stdout",
          "text": [
            "Original label: 9\n",
            "After conversion to one-hot: [0. 0. 0. 0. 0. 0. 0. 0. 0. 1.]\n",
            "[[0. 0. 0. ... 0. 0. 1.]\n",
            " [1. 0. 0. ... 0. 0. 0.]\n",
            " [1. 0. 0. ... 0. 0. 0.]\n",
            " ...\n",
            " [0. 0. 0. ... 0. 0. 0.]\n",
            " [1. 0. 0. ... 0. 0. 0.]\n",
            " [0. 0. 0. ... 0. 0. 0.]]\n"
          ]
        }
      ]
    },
    {
      "cell_type": "markdown",
      "source": [
        "ANALYSE - Partitionnement des données avec une utilisation de 80% des données d'entrainements et 20% des données de test pour validation"
      ],
      "metadata": {
        "id": "MGSye0jl3_Xq"
      }
    },
    {
      "cell_type": "code",
      "source": [
        "from sklearn.model_selection import train_test_split\n",
        "train_X,valid_X,train_label,valid_label = train_test_split(train_X, train_Y_one_hot, test_size=0.2, random_state=13)\n",
        "\n",
        "train_X.shape,valid_X.shape,train_label.shape,valid_label.shape"
      ],
      "metadata": {
        "id": "wA2vLEA84Tc0",
        "outputId": "e60cff24-efec-44b2-be0e-6411e2a04887",
        "colab": {
          "base_uri": "https://localhost:8080/"
        }
      },
      "execution_count": 33,
      "outputs": [
        {
          "output_type": "execute_result",
          "data": {
            "text/plain": [
              "((48000, 28, 28, 1), (12000, 28, 28, 1), (48000, 10), (12000, 10))"
            ]
          },
          "metadata": {},
          "execution_count": 33
        }
      ]
    },
    {
      "cell_type": "markdown",
      "source": [
        "**3) RÉSEAU**"
      ],
      "metadata": {
        "id": "apxVhNXC5kSw"
      }
    },
    {
      "cell_type": "markdown",
      "source": [
        "![image.png](data:image/png;base64,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)"
      ],
      "metadata": {
        "id": "Hi_pmjwU6DJy"
      }
    },
    {
      "cell_type": "markdown",
      "source": [
        "RÉSEAU - Importation des différentes librairies"
      ],
      "metadata": {
        "id": "vxAYmoh86K_4"
      }
    },
    {
      "cell_type": "code",
      "source": [
        "import keras\n",
        "import tensorflow as tf \n",
        "from keras.models import Sequential,Input,Model\n",
        "from keras.layers import Dense, Dropout, Flatten\n",
        "from keras.layers import Conv2D, MaxPooling2D\n",
        "from keras.layers import BatchNormalization\n",
        "from keras.layers.advanced_activations import LeakyReLU"
      ],
      "metadata": {
        "id": "Omigdnya5oQt"
      },
      "execution_count": 46,
      "outputs": []
    },
    {
      "cell_type": "markdown",
      "source": [
        "RÉSEAU - Définition de constantes"
      ],
      "metadata": {
        "id": "0nxGDSc866vt"
      }
    },
    {
      "cell_type": "code",
      "source": [
        "batch_size = 64\n",
        "epochs = 20\n",
        "num_classes = 10"
      ],
      "metadata": {
        "id": "bTJKt_h_6-ZR"
      },
      "execution_count": 47,
      "outputs": []
    },
    {
      "cell_type": "markdown",
      "source": [
        "RÉSEAU - Définition du réseau séquentiel en suivant le schéma vu précédemment"
      ],
      "metadata": {
        "id": "irF-j-807y4y"
      }
    },
    {
      "cell_type": "code",
      "source": [
        "fashion_model = Sequential()\n",
        "fashion_model.add(Conv2D(32, kernel_size=(3, 3),activation='linear',input_shape=(28,28,1),padding='same'))\n",
        "fashion_model.add(LeakyReLU(alpha=0.1))\n",
        "fashion_model.add(MaxPooling2D((2, 2),padding='same'))\n",
        "fashion_model.add(Conv2D(64, (3, 3), activation='linear',padding='same'))\n",
        "fashion_model.add(LeakyReLU(alpha=0.1))\n",
        "fashion_model.add(MaxPooling2D(pool_size=(2, 2),padding='same'))\n",
        "fashion_model.add(Conv2D(128, (3, 3), activation='linear',padding='same'))\n",
        "fashion_model.add(LeakyReLU(alpha=0.1))                  \n",
        "fashion_model.add(MaxPooling2D(pool_size=(2, 2),padding='same'))\n",
        "fashion_model.add(Flatten())\n",
        "fashion_model.add(Dense(128, activation='linear'))\n",
        "fashion_model.add(LeakyReLU(alpha=0.1))                  \n",
        "fashion_model.add(Dense(num_classes, activation='softmax'))"
      ],
      "metadata": {
        "id": "F_TxZvin72k6"
      },
      "execution_count": 48,
      "outputs": []
    },
    {
      "cell_type": "markdown",
      "source": [
        "RÉSEAU - Compilation du réseau en utilisant l'optimiseur Adam"
      ],
      "metadata": {
        "id": "EhOjJJoW8k17"
      }
    },
    {
      "cell_type": "code",
      "source": [
        "fashion_model.compile(loss=keras.losses.categorical_crossentropy, optimizer=tf.keras.optimizers.Adam(),metrics=['accuracy'])"
      ],
      "metadata": {
        "id": "a4QQwJzC8p32"
      },
      "execution_count": 49,
      "outputs": []
    },
    {
      "cell_type": "markdown",
      "source": [
        "RÉSEAU - Visualisation du réseau"
      ],
      "metadata": {
        "id": "nhobqO3J9bIT"
      }
    },
    {
      "cell_type": "code",
      "source": [
        "fashion_model.summary()"
      ],
      "metadata": {
        "id": "EMgU-B3P9emq",
        "outputId": "7ee1a68a-8a88-4dd1-908c-6c0a78f781b9",
        "colab": {
          "base_uri": "https://localhost:8080/"
        }
      },
      "execution_count": 50,
      "outputs": [
        {
          "output_type": "stream",
          "name": "stdout",
          "text": [
            "Model: \"sequential_1\"\n",
            "_________________________________________________________________\n",
            " Layer (type)                Output Shape              Param #   \n",
            "=================================================================\n",
            " conv2d_3 (Conv2D)           (None, 28, 28, 32)        320       \n",
            "                                                                 \n",
            " leaky_re_lu_4 (LeakyReLU)   (None, 28, 28, 32)        0         \n",
            "                                                                 \n",
            " max_pooling2d_3 (MaxPooling  (None, 14, 14, 32)       0         \n",
            " 2D)                                                             \n",
            "                                                                 \n",
            " conv2d_4 (Conv2D)           (None, 14, 14, 64)        18496     \n",
            "                                                                 \n",
            " leaky_re_lu_5 (LeakyReLU)   (None, 14, 14, 64)        0         \n",
            "                                                                 \n",
            " max_pooling2d_4 (MaxPooling  (None, 7, 7, 64)         0         \n",
            " 2D)                                                             \n",
            "                                                                 \n",
            " conv2d_5 (Conv2D)           (None, 7, 7, 128)         73856     \n",
            "                                                                 \n",
            " leaky_re_lu_6 (LeakyReLU)   (None, 7, 7, 128)         0         \n",
            "                                                                 \n",
            " max_pooling2d_5 (MaxPooling  (None, 4, 4, 128)        0         \n",
            " 2D)                                                             \n",
            "                                                                 \n",
            " flatten_1 (Flatten)         (None, 2048)              0         \n",
            "                                                                 \n",
            " dense_2 (Dense)             (None, 128)               262272    \n",
            "                                                                 \n",
            " leaky_re_lu_7 (LeakyReLU)   (None, 128)               0         \n",
            "                                                                 \n",
            " dense_3 (Dense)             (None, 10)                1290      \n",
            "                                                                 \n",
            "=================================================================\n",
            "Total params: 356,234\n",
            "Trainable params: 356,234\n",
            "Non-trainable params: 0\n",
            "_________________________________________________________________\n"
          ]
        }
      ]
    },
    {
      "cell_type": "markdown",
      "source": [
        "RÉSEAU - Entraînement du modèle sur 20 epochs"
      ],
      "metadata": {
        "id": "hQQ0O7Ra9o_J"
      }
    },
    {
      "cell_type": "code",
      "source": [
        "fashion_train = fashion_model.fit(train_X, train_label, batch_size=batch_size,epochs=epochs,verbose=1,validation_data=(valid_X, valid_label))"
      ],
      "metadata": {
        "id": "EHedZH6-98bV",
        "outputId": "783a8770-3cbd-45ab-c1e2-3cc51521cdb8",
        "colab": {
          "base_uri": "https://localhost:8080/"
        }
      },
      "execution_count": 51,
      "outputs": [
        {
          "output_type": "stream",
          "name": "stdout",
          "text": [
            "Epoch 1/20\n",
            "750/750 [==============================] - 94s 124ms/step - loss: 0.4642 - accuracy: 0.8302 - val_loss: 0.3506 - val_accuracy: 0.8714\n",
            "Epoch 2/20\n",
            "750/750 [==============================] - 95s 127ms/step - loss: 0.2907 - accuracy: 0.8935 - val_loss: 0.3070 - val_accuracy: 0.8858\n",
            "Epoch 3/20\n",
            "750/750 [==============================] - 94s 125ms/step - loss: 0.2456 - accuracy: 0.9094 - val_loss: 0.2489 - val_accuracy: 0.9104\n",
            "Epoch 4/20\n",
            "750/750 [==============================] - 95s 127ms/step - loss: 0.2128 - accuracy: 0.9213 - val_loss: 0.2417 - val_accuracy: 0.9160\n",
            "Epoch 5/20\n",
            "750/750 [==============================] - 95s 127ms/step - loss: 0.1845 - accuracy: 0.9309 - val_loss: 0.2462 - val_accuracy: 0.9117\n",
            "Epoch 6/20\n",
            "750/750 [==============================] - 95s 126ms/step - loss: 0.1609 - accuracy: 0.9392 - val_loss: 0.2340 - val_accuracy: 0.9197\n",
            "Epoch 7/20\n",
            "750/750 [==============================] - 94s 125ms/step - loss: 0.1429 - accuracy: 0.9464 - val_loss: 0.2486 - val_accuracy: 0.9163\n",
            "Epoch 8/20\n",
            "750/750 [==============================] - 95s 126ms/step - loss: 0.1217 - accuracy: 0.9547 - val_loss: 0.2414 - val_accuracy: 0.9216\n",
            "Epoch 9/20\n",
            "750/750 [==============================] - 94s 125ms/step - loss: 0.1055 - accuracy: 0.9604 - val_loss: 0.2554 - val_accuracy: 0.9222\n",
            "Epoch 10/20\n",
            "750/750 [==============================] - 93s 124ms/step - loss: 0.0895 - accuracy: 0.9669 - val_loss: 0.2726 - val_accuracy: 0.9164\n",
            "Epoch 11/20\n",
            "750/750 [==============================] - 93s 124ms/step - loss: 0.0760 - accuracy: 0.9719 - val_loss: 0.3003 - val_accuracy: 0.9208\n",
            "Epoch 12/20\n",
            "750/750 [==============================] - 92s 123ms/step - loss: 0.0671 - accuracy: 0.9757 - val_loss: 0.3105 - val_accuracy: 0.9193\n",
            "Epoch 13/20\n",
            "750/750 [==============================] - 94s 125ms/step - loss: 0.0586 - accuracy: 0.9780 - val_loss: 0.3258 - val_accuracy: 0.9168\n",
            "Epoch 14/20\n",
            "750/750 [==============================] - 94s 126ms/step - loss: 0.0548 - accuracy: 0.9796 - val_loss: 0.3159 - val_accuracy: 0.9218\n",
            "Epoch 15/20\n",
            "750/750 [==============================] - 94s 125ms/step - loss: 0.0414 - accuracy: 0.9846 - val_loss: 0.3866 - val_accuracy: 0.9170\n",
            "Epoch 16/20\n",
            "750/750 [==============================] - 93s 124ms/step - loss: 0.0445 - accuracy: 0.9840 - val_loss: 0.4154 - val_accuracy: 0.9136\n",
            "Epoch 17/20\n",
            "750/750 [==============================] - 93s 124ms/step - loss: 0.0375 - accuracy: 0.9861 - val_loss: 0.4138 - val_accuracy: 0.9196\n",
            "Epoch 18/20\n",
            "750/750 [==============================] - 95s 126ms/step - loss: 0.0364 - accuracy: 0.9869 - val_loss: 0.4072 - val_accuracy: 0.9162\n",
            "Epoch 19/20\n",
            "750/750 [==============================] - 94s 125ms/step - loss: 0.0307 - accuracy: 0.9885 - val_loss: 0.4306 - val_accuracy: 0.9112\n",
            "Epoch 20/20\n",
            "750/750 [==============================] - 94s 126ms/step - loss: 0.0324 - accuracy: 0.9883 - val_loss: 0.4664 - val_accuracy: 0.9182\n"
          ]
        }
      ]
    },
    {
      "cell_type": "markdown",
      "source": [
        "**4) ÉVALUATION DU MODÈLE**"
      ],
      "metadata": {
        "id": "7FYW5MeoACXL"
      }
    },
    {
      "cell_type": "code",
      "source": [
        "test_eval = fashion_model.evaluate(test_X, test_Y_one_hot, verbose=0)\n",
        "\n",
        "print('Test loss:', test_eval[0])\n",
        "print('Test accuracy:', test_eval[1])"
      ],
      "metadata": {
        "id": "PRhWdjjzAJoV",
        "outputId": "e702c913-2e06-4dba-996c-202ae81bfbe5",
        "colab": {
          "base_uri": "https://localhost:8080/"
        }
      },
      "execution_count": 52,
      "outputs": [
        {
          "output_type": "stream",
          "name": "stdout",
          "text": [
            "Test loss: 0.4698415994644165\n",
            "Test accuracy: 0.9147999882698059\n"
          ]
        }
      ]
    },
    {
      "cell_type": "markdown",
      "source": [
        "ÉVALUATION - Affichage des graphiques pour évaluer"
      ],
      "metadata": {
        "id": "r9_lGMsxAs0-"
      }
    },
    {
      "cell_type": "code",
      "source": [
        "accuracy = fashion_train.history['accuracy']\n",
        "val_accuracy = fashion_train.history['val_accuracy']\n",
        "loss = fashion_train.history['loss']\n",
        "val_loss = fashion_train.history['val_loss']\n",
        "epochs = range(len(accuracy))\n",
        "plt.plot(epochs, accuracy, 'bo', label='Training accuracy')\n",
        "plt.plot(epochs, val_accuracy, 'b', label='Validation accuracy')\n",
        "plt.title('Training and validation accuracy')\n",
        "plt.legend()\n",
        "plt.figure()\n",
        "plt.plot(epochs, loss, 'bo', label='Training loss')\n",
        "plt.plot(epochs, val_loss, 'b', label='Validation loss')\n",
        "plt.title('Training and validation loss')\n",
        "plt.legend()\n",
        "plt.show()"
      ],
      "metadata": {
        "id": "-To7t7LBA3lm",
        "outputId": "5e7eec99-e4f7-49bd-95e3-6ef1919877a4",
        "colab": {
          "base_uri": "https://localhost:8080/",
          "height": 545
        }
      },
      "execution_count": 55,
      "outputs": [
        {
          "output_type": "display_data",
          "data": {
            "image/png": "[encoded data removed]",
            "text/plain": [
              "<Figure size 432x288 with 1 Axes>"
            ]
          },
          "metadata": {
            "needs_background": "light"
          }
        },
        {
          "output_type": "display_data",
          "data": {
            "image/png": "[encoded data removed]",
            "text/plain": [
              "<Figure size 432x288 with 1 Axes>"
            ]
          },
          "metadata": {
            "needs_background": "light"
          }
        }
      ]
    },
    {
      "cell_type": "markdown",
      "source": [
        "**5) DROPOUT**"
      ],
      "metadata": {
        "id": "PKklJ6L8BAo1"
      }
    },
    {
      "cell_type": "markdown",
      "source": [
        "DROPOUT - Le dropout pour ne pas \"sur-apprendre\""
      ],
      "metadata": {
        "id": "DVr9C_pvBdVC"
      }
    },
    {
      "cell_type": "code",
      "source": [
        "batch_size = 64\n",
        "epochs = 20\n",
        "num_classes = 10\n",
        "\n",
        "fashion_model = Sequential()\n",
        "fashion_model.add(Conv2D(32, kernel_size=(3, 3),activation='linear',padding='same',input_shape=(28,28,1)))\n",
        "fashion_model.add(LeakyReLU(alpha=0.1))\n",
        "fashion_model.add(MaxPooling2D((2, 2),padding='same'))\n",
        "fashion_model.add(Dropout(0.25))\n",
        "fashion_model.add(Conv2D(64, (3, 3), activation='linear',padding='same'))\n",
        "fashion_model.add(LeakyReLU(alpha=0.1))\n",
        "fashion_model.add(MaxPooling2D(pool_size=(2, 2),padding='same'))\n",
        "fashion_model.add(Dropout(0.25))\n",
        "fashion_model.add(Conv2D(128, (3, 3), activation='linear',padding='same'))\n",
        "fashion_model.add(LeakyReLU(alpha=0.1))                  \n",
        "fashion_model.add(MaxPooling2D(pool_size=(2, 2),padding='same'))\n",
        "fashion_model.add(Dropout(0.4))\n",
        "fashion_model.add(Flatten())\n",
        "fashion_model.add(Dense(128, activation='linear'))\n",
        "fashion_model.add(LeakyReLU(alpha=0.1))           \n",
        "fashion_model.add(Dropout(0.3))\n",
        "fashion_model.add(Dense(num_classes, activation='softmax'))\n",
        "\n",
        "fashion_model.summary()\n",
        "\n",
        "fashion_model.compile(loss=keras.losses.categorical_crossentropy, optimizer=tf.keras.optimizers.Adam(),metrics=['accuracy'])\n",
        "\n",
        "fashion_train_dropout = fashion_model.fit(train_X, train_label, batch_size=batch_size,epochs=epochs,verbose=1,validation_data=(valid_X, valid_label))"
      ],
      "metadata": {
        "id": "3i13zQa3BXUG",
        "outputId": "b731afa5-0993-4d70-ab2f-d720469c8636",
        "colab": {
          "base_uri": "https://localhost:8080/"
        }
      },
      "execution_count": 56,
      "outputs": [
        {
          "output_type": "stream",
          "name": "stdout",
          "text": [
            "Model: \"sequential_2\"\n",
            "_________________________________________________________________\n",
            " Layer (type)                Output Shape              Param #   \n",
            "=================================================================\n",
            " conv2d_6 (Conv2D)           (None, 28, 28, 32)        320       \n",
            "                                                                 \n",
            " leaky_re_lu_8 (LeakyReLU)   (None, 28, 28, 32)        0         \n",
            "                                                                 \n",
            " max_pooling2d_6 (MaxPooling  (None, 14, 14, 32)       0         \n",
            " 2D)                                                             \n",
            "                                                                 \n",
            " dropout (Dropout)           (None, 14, 14, 32)        0         \n",
            "                                                                 \n",
            " conv2d_7 (Conv2D)           (None, 14, 14, 64)        18496     \n",
            "                                                                 \n",
            " leaky_re_lu_9 (LeakyReLU)   (None, 14, 14, 64)        0         \n",
            "                                                                 \n",
            " max_pooling2d_7 (MaxPooling  (None, 7, 7, 64)         0         \n",
            " 2D)                                                             \n",
            "                                                                 \n",
            " dropout_1 (Dropout)         (None, 7, 7, 64)          0         \n",
            "                                                                 \n",
            " conv2d_8 (Conv2D)           (None, 7, 7, 128)         73856     \n",
            "                                                                 \n",
            " leaky_re_lu_10 (LeakyReLU)  (None, 7, 7, 128)         0         \n",
            "                                                                 \n",
            " max_pooling2d_8 (MaxPooling  (None, 4, 4, 128)        0         \n",
            " 2D)                                                             \n",
            "                                                                 \n",
            " dropout_2 (Dropout)         (None, 4, 4, 128)         0         \n",
            "                                                                 \n",
            " flatten_2 (Flatten)         (None, 2048)              0         \n",
            "                                                                 \n",
            " dense_4 (Dense)             (None, 128)               262272    \n",
            "                                                                 \n",
            " leaky_re_lu_11 (LeakyReLU)  (None, 128)               0         \n",
            "                                                                 \n",
            " dropout_3 (Dropout)         (None, 128)               0         \n",
            "                                                                 \n",
            " dense_5 (Dense)             (None, 10)                1290      \n",
            "                                                                 \n",
            "=================================================================\n",
            "Total params: 356,234\n",
            "Trainable params: 356,234\n",
            "Non-trainable params: 0\n",
            "_________________________________________________________________\n",
            "Epoch 1/20\n",
            "750/750 [==============================] - 102s 135ms/step - loss: 0.5818 - accuracy: 0.7858 - val_loss: 0.3653 - val_accuracy: 0.8692\n",
            "Epoch 2/20\n",
            "750/750 [==============================] - 99s 132ms/step - loss: 0.3757 - accuracy: 0.8612 - val_loss: 0.3131 - val_accuracy: 0.8841\n",
            "Epoch 3/20\n",
            "750/750 [==============================] - 99s 133ms/step - loss: 0.3274 - accuracy: 0.8786 - val_loss: 0.2892 - val_accuracy: 0.8945\n",
            "Epoch 4/20\n",
            "750/750 [==============================] - 100s 133ms/step - loss: 0.2957 - accuracy: 0.8893 - val_loss: 0.2606 - val_accuracy: 0.9026\n",
            "Epoch 5/20\n",
            "750/750 [==============================] - 100s 134ms/step - loss: 0.2818 - accuracy: 0.8939 - val_loss: 0.2505 - val_accuracy: 0.9084\n",
            "Epoch 6/20\n",
            "750/750 [==============================] - 101s 135ms/step - loss: 0.2669 - accuracy: 0.9004 - val_loss: 0.2371 - val_accuracy: 0.9128\n",
            "Epoch 7/20\n",
            "750/750 [==============================] - 101s 134ms/step - loss: 0.2560 - accuracy: 0.9054 - val_loss: 0.2546 - val_accuracy: 0.9068\n",
            "Epoch 8/20\n",
            "750/750 [==============================] - 101s 134ms/step - loss: 0.2491 - accuracy: 0.9067 - val_loss: 0.2468 - val_accuracy: 0.9090\n",
            "Epoch 9/20\n",
            "750/750 [==============================] - 101s 134ms/step - loss: 0.2440 - accuracy: 0.9099 - val_loss: 0.2260 - val_accuracy: 0.9168\n",
            "Epoch 10/20\n",
            "750/750 [==============================] - 100s 134ms/step - loss: 0.2342 - accuracy: 0.9114 - val_loss: 0.2237 - val_accuracy: 0.9192\n",
            "Epoch 11/20\n",
            "750/750 [==============================] - 100s 134ms/step - loss: 0.2268 - accuracy: 0.9150 - val_loss: 0.2255 - val_accuracy: 0.9198\n",
            "Epoch 12/20\n",
            "750/750 [==============================] - 100s 134ms/step - loss: 0.2229 - accuracy: 0.9173 - val_loss: 0.2203 - val_accuracy: 0.9210\n",
            "Epoch 13/20\n",
            "750/750 [==============================] - 101s 135ms/step - loss: 0.2176 - accuracy: 0.9177 - val_loss: 0.2471 - val_accuracy: 0.9124\n",
            "Epoch 14/20\n",
            "750/750 [==============================] - 101s 135ms/step - loss: 0.2150 - accuracy: 0.9182 - val_loss: 0.2221 - val_accuracy: 0.9218\n",
            "Epoch 15/20\n",
            "750/750 [==============================] - 101s 135ms/step - loss: 0.2121 - accuracy: 0.9192 - val_loss: 0.2175 - val_accuracy: 0.9222\n",
            "Epoch 16/20\n",
            "750/750 [==============================] - 101s 135ms/step - loss: 0.2086 - accuracy: 0.9209 - val_loss: 0.2283 - val_accuracy: 0.9177\n",
            "Epoch 17/20\n",
            "750/750 [==============================] - 101s 134ms/step - loss: 0.2053 - accuracy: 0.9234 - val_loss: 0.2109 - val_accuracy: 0.9236\n",
            "Epoch 18/20\n",
            "750/750 [==============================] - 100s 133ms/step - loss: 0.2022 - accuracy: 0.9242 - val_loss: 0.2296 - val_accuracy: 0.9211\n",
            "Epoch 19/20\n",
            "750/750 [==============================] - 100s 134ms/step - loss: 0.2017 - accuracy: 0.9230 - val_loss: 0.2132 - val_accuracy: 0.9263\n",
            "Epoch 20/20\n",
            "750/750 [==============================] - 99s 132ms/step - loss: 0.1946 - accuracy: 0.9256 - val_loss: 0.2105 - val_accuracy: 0.9260\n"
          ]
        }
      ]
    },
    {
      "cell_type": "markdown",
      "source": [
        "DROPOUT - Sauvegarde du modèle"
      ],
      "metadata": {
        "id": "sMejt0dVCh_a"
      }
    },
    {
      "cell_type": "code",
      "source": [
        "fashion_model.save(\"fashion_model_dropout.h5py\")"
      ],
      "metadata": {
        "id": "7-9daWZWClVY",
        "outputId": "933536d6-3ed4-483e-a10f-86e4f7e1c2ba",
        "colab": {
          "base_uri": "https://localhost:8080/"
        }
      },
      "execution_count": 57,
      "outputs": [
        {
          "output_type": "stream",
          "name": "stdout",
          "text": [
            "INFO:tensorflow:Assets written to: fashion_model_dropout.h5py/assets\n"
          ]
        }
      ]
    },
    {
      "cell_type": "markdown",
      "source": [
        "**6) ÉVALUATION DU MODÈLE AVEC DROPOUT**"
      ],
      "metadata": {
        "id": "zfOFLvNTCqkO"
      }
    },
    {
      "cell_type": "code",
      "source": [
        "test_eval = fashion_model.evaluate(test_X, test_Y_one_hot, verbose=1)\n",
        "\n",
        "print('Test loss:', test_eval[0])\n",
        "print('Test accuracy:', test_eval[1])\n",
        "\n",
        "accuracy = fashion_train_dropout.history['accuracy']\n",
        "val_accuracy = fashion_train_dropout.history['val_accuracy']\n",
        "loss = fashion_train_dropout.history['loss']\n",
        "val_loss = fashion_train_dropout.history['val_loss']\n",
        "epochs = range(len(accuracy))\n",
        "plt.plot(epochs, accuracy, 'bo', label='Training accuracy')\n",
        "plt.plot(epochs, val_accuracy, 'b', label='Validation accuracy')\n",
        "plt.title('Training and validation accuracy')\n",
        "plt.legend()\n",
        "plt.figure()\n",
        "plt.plot(epochs, loss, 'bo', label='Training loss')\n",
        "plt.plot(epochs, val_loss, 'b', label='Validation loss')\n",
        "plt.title('Training and validation loss')\n",
        "plt.legend()\n",
        "plt.show()"
      ],
      "metadata": {
        "id": "ubWsC-aECw_4",
        "outputId": "b1d50706-8577-47eb-9986-3fae35e0d3fc",
        "colab": {
          "base_uri": "https://localhost:8080/",
          "height": 597
        }
      },
      "execution_count": 59,
      "outputs": [
        {
          "output_type": "stream",
          "name": "stdout",
          "text": [
            "313/313 [==============================] - 6s 20ms/step - loss: 0.2190 - accuracy: 0.9194\n",
            "Test loss: 0.21897214651107788\n",
            "Test accuracy: 0.9193999767303467\n"
          ]
        },
        {
          "output_type": "display_data",
          "data": {
            "image/png": "[encoded data removed]",
            "text/plain": [
              "<Figure size 432x288 with 1 Axes>"
            ]
          },
          "metadata": {
            "needs_background": "light"
          }
        },
        {
          "output_type": "display_data",
          "data": {
            "image/png": "[encoded data removed]",
            "text/plain": [
              "<Figure size 432x288 with 1 Axes>"
            ]
          },
          "metadata": {
            "needs_background": "light"
          }
        }
      ]
    },
    {
      "cell_type": "markdown",
      "source": [
        "**7) PRÉDICTION DE LABELS**"
      ],
      "metadata": {
        "id": "JI3rUyqMDEEq"
      }
    },
    {
      "cell_type": "code",
      "source": [
        "predicted_classes = fashion_model.predict(test_X)"
      ],
      "metadata": {
        "id": "Qh43Z3SpDIVM"
      },
      "execution_count": 60,
      "outputs": []
    },
    {
      "cell_type": "markdown",
      "source": [
        "PRÉDICTION - Convertion du vecteur en une classe entre 0 et 9"
      ],
      "metadata": {
        "id": "EFkOZGGtDtPU"
      }
    },
    {
      "cell_type": "code",
      "source": [
        "predicted_classes = np.argmax(np.round(predicted_classes),axis=1)\n",
        "\n",
        "predicted_classes.shape, test_Y.shape"
      ],
      "metadata": {
        "id": "feJDPpucDyv8",
        "outputId": "68a8fc77-9e15-4e13-cf88-a5ed6ecca9dd",
        "colab": {
          "base_uri": "https://localhost:8080/"
        }
      },
      "execution_count": 61,
      "outputs": [
        {
          "output_type": "execute_result",
          "data": {
            "text/plain": [
              "((10000,), (10000,))"
            ]
          },
          "metadata": {},
          "execution_count": 61
        }
      ]
    },
    {
      "cell_type": "markdown",
      "source": [
        "PRÉDICTION - Les corrects :"
      ],
      "metadata": {
        "id": "yHzg8gIiEA9O"
      }
    },
    {
      "cell_type": "code",
      "source": [
        "correct = np.where(predicted_classes==test_Y)[0]\n",
        "print (\"Found \" + str(len(correct)) + \" correct labels\")\n",
        "for i, correct in enumerate(correct[:9]):\n",
        "    plt.subplot(3,3,i+1)\n",
        "    plt.imshow(test_X[correct].reshape(28,28), cmap='gray', interpolation='none')\n",
        "    plt.title(\"Predicted {}, Class {}\".format(predicted_classes[correct], test_Y[correct]))\n",
        "    plt.tight_layout()"
      ],
      "metadata": {
        "id": "n6zAWzqKEFDk",
        "outputId": "1322b7c8-9891-4201-b8d9-d7c683c09616",
        "colab": {
          "base_uri": "https://localhost:8080/",
          "height": 314
        }
      },
      "execution_count": 64,
      "outputs": [
        {
          "output_type": "stream",
          "name": "stdout",
          "text": [
            "Found 9152 correct labels\n"
          ]
        },
        {
          "output_type": "display_data",
          "data": {
            "image/png": "[encoded data removed]",
            "text/plain": [
              "<Figure size 432x288 with 9 Axes>"
            ]
          },
          "metadata": {
            "needs_background": "light"
          }
        }
      ]
    },
    {
      "cell_type": "markdown",
      "source": [
        "PRÉDICTION - Les incorrects :"
      ],
      "metadata": {
        "id": "yAz5rYFHEF9j"
      }
    },
    {
      "cell_type": "code",
      "source": [
        "incorrect = np.where(predicted_classes!=test_Y)[0]\n",
        "print (\"Found \" + str(len(incorrect)) +\" incorrect labels\")\n",
        "for i, incorrect in enumerate(incorrect[:9]):\n",
        "    plt.subplot(3,3,i+1)\n",
        "    plt.imshow(test_X[incorrect].reshape(28,28), cmap='gray', interpolation='none')\n",
        "    plt.title(\"Predicted {}, Class {}\".format(predicted_classes[incorrect], test_Y[incorrect]))\n",
        "    plt.tight_layout()"
      ],
      "metadata": {
        "id": "E-nvvHdlEPzq",
        "outputId": "a980449e-4588-472d-d894-37a464998561",
        "colab": {
          "base_uri": "https://localhost:8080/",
          "height": 314
        }
      },
      "execution_count": 65,
      "outputs": [
        {
          "output_type": "stream",
          "name": "stdout",
          "text": [
            "Found 848 incorrect labels\n"
          ]
        },
        {
          "output_type": "display_data",
          "data": {
            "image/png": "[encoded data removed]",
            "text/plain": [
              "<Figure size 432x288 with 9 Axes>"
            ]
          },
          "metadata": {
            "needs_background": "light"
          }
        }
      ]
    },
    {
      "cell_type": "markdown",
      "source": [
        "**8) RAPPORT DE CLASSIFICATION**"
      ],
      "metadata": {
        "id": "jYuWsyx5Elce"
      }
    },
    {
      "cell_type": "code",
      "source": [
        "from sklearn.metrics import classification_report\n",
        "target_names = [\"Class {}\".format(i) for i in range(num_classes)]\n",
        "print(classification_report(test_Y, predicted_classes, target_names=target_names))"
      ],
      "metadata": {
        "id": "anTDi4X9EpUD",
        "outputId": "ba478299-20fe-498b-8183-3b746547bd70",
        "colab": {
          "base_uri": "https://localhost:8080/"
        }
      },
      "execution_count": 66,
      "outputs": [
        {
          "output_type": "stream",
          "name": "stdout",
          "text": [
            "              precision    recall  f1-score   support\n",
            "\n",
            "     Class 0       0.76      0.91      0.83      1000\n",
            "     Class 1       0.99      0.98      0.99      1000\n",
            "     Class 2       0.86      0.89      0.87      1000\n",
            "     Class 3       0.92      0.93      0.93      1000\n",
            "     Class 4       0.91      0.80      0.85      1000\n",
            "     Class 5       0.99      0.99      0.99      1000\n",
            "     Class 6       0.82      0.73      0.77      1000\n",
            "     Class 7       0.95      0.99      0.97      1000\n",
            "     Class 8       0.98      0.99      0.99      1000\n",
            "     Class 9       0.99      0.95      0.97      1000\n",
            "\n",
            "    accuracy                           0.92     10000\n",
            "   macro avg       0.92      0.92      0.91     10000\n",
            "weighted avg       0.92      0.92      0.91     10000\n",
            "\n"
          ]
        }
      ]
    }
  ]
}